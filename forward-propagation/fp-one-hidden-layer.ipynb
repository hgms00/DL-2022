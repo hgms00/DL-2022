{
 "cells": [
  {
   "cell_type": "markdown",
   "id": "1b0c9987",
   "metadata": {},
   "source": [
    "### Exemplo simples de forward propagation em Python para uma rede neural com uma camada oculta"
   ]
  },
  {
   "cell_type": "code",
   "execution_count": 3,
   "id": "7d2e4db4",
   "metadata": {},
   "outputs": [
    {
     "name": "stdout",
     "output_type": "stream",
     "text": [
      "[[0.54549175]]\n"
     ]
    }
   ],
   "source": [
    "import numpy as np\n",
    "\n",
    "# define a função sigmóide para a ativação\n",
    "def sigmoid(x):\n",
    "    return 1 / (1 + np.exp(-x))\n",
    "\n",
    "# defina a entrada e os pesos das camadas\n",
    "X = np.array([[0.1, 0.2, 0.3]])\n",
    "W1 = np.array([[0.4, 0.5], [0.6, 0.7], [0.8, 0.9]])\n",
    "W2 = np.array([[0.1, 0.2]])\n",
    "\n",
    "# calculate the dot product of the input and the first set of weights, and apply the sigmoid function\n",
    "hidden_layer_input = np.dot(X, W1)\n",
    "hidden_layer_output = sigmoid(hidden_layer_input)\n",
    "\n",
    "# calculate the dot product of the hidden layer output and the second set of weights, and apply the sigmoid function\n",
    "output_layer_input = np.dot(hidden_layer_output, W2.T)\n",
    "output = sigmoid(output_layer_input)\n",
    "\n",
    "print(output)"
   ]
  },
  {
   "cell_type": "markdown",
   "id": "2a327220",
   "metadata": {},
   "source": [
    "###  Exemplo de forward propagation em uma rede neural com 3 camadas ocultas em Python, utilizando as funções de ativação ReLU e softmax"
   ]
  },
  {
   "cell_type": "markdown",
   "id": "ab087b8a",
   "metadata": {},
   "source": [
    "Nesse exemplo, a entrada possui 2 features, as camadas ocultas têm 3 e 2 neurônios cada e a saída é composta por duas classes. Cada camada possui um conjunto de pesos e bias que são usados para calcular a entrada da camada seguinte. As funções de ativação ReLU são aplicadas nas camadas ocultas e a função softmax é aplicada na camada de saída para obter as probabilidades das classes. "
   ]
  },
  {
   "cell_type": "code",
   "execution_count": 4,
   "id": "aab45528",
   "metadata": {},
   "outputs": [
    {
     "name": "stdout",
     "output_type": "stream",
     "text": [
      "Output:  [[0.45175061 0.54824939]]\n"
     ]
    }
   ],
   "source": [
    "import numpy as np\n",
    "\n",
    "def relu(x):\n",
    "    return np.maximum(x, 0)\n",
    "\n",
    "def softmax(x):\n",
    "    exp_x = np.exp(x - np.max(x, axis=1, keepdims=True))\n",
    "    return exp_x / np.sum(exp_x, axis=1, keepdims=True)\n",
    "\n",
    "# Entrada com 2 features\n",
    "X = np.array([[1.0, 2.0]])\n",
    "\n",
    "# Pesos das camadas\n",
    "W1 = np.array([[0.1, 0.3, 0.5], [0.2, 0.4, 0.6]])\n",
    "W2 = np.array([[0.7, 0.9], [0.8, 1.0], [0.11, 0.13]])\n",
    "W3 = np.array([[0.15, 0.17], [0.25, 0.27]])\n",
    "\n",
    "# Bias das camadas\n",
    "b1 = np.array([[0.1, 0.2, 0.3]])\n",
    "b2 = np.array([[0.4, 0.5]])\n",
    "b3 = np.array([[0.6, 0.7]])\n",
    "\n",
    "# Forward propagation\n",
    "hidden_layer1_input = np.dot(X, W1) + b1\n",
    "hidden_layer1_output = relu(hidden_layer1_input)\n",
    "\n",
    "hidden_layer2_input = np.dot(hidden_layer1_output, W2) + b2\n",
    "hidden_layer2_output = relu(hidden_layer2_input)\n",
    "\n",
    "output_layer_input = np.dot(hidden_layer2_output, W3) + b3\n",
    "output_layer_output = softmax(output_layer_input)\n",
    "\n",
    "print(\"Output: \", output_layer_output)"
   ]
  }
 ],
 "metadata": {
  "kernelspec": {
   "display_name": "Python 3 (ipykernel)",
   "language": "python",
   "name": "python3"
  },
  "language_info": {
   "codemirror_mode": {
    "name": "ipython",
    "version": 3
   },
   "file_extension": ".py",
   "mimetype": "text/x-python",
   "name": "python",
   "nbconvert_exporter": "python",
   "pygments_lexer": "ipython3",
   "version": "3.8.5"
  }
 },
 "nbformat": 4,
 "nbformat_minor": 5
}
