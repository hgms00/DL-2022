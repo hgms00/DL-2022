{
 "cells": [
  {
   "cell_type": "markdown",
   "id": "e6ef58f6",
   "metadata": {},
   "source": [
    "As funções ReLU e softmax são funções de ativação utilizadas em redes neurais para introduzir não linearidade e normalizar a saída da rede, respectivamente.\n",
    "\n",
    "A função ReLU (Rectified Linear Unit) é uma função de ativação muito utilizada em redes neurais profundas. Ela é definida como f(x) = max(0,x), ou seja, ela retorna o valor de x se x for positivo e retorna zero caso contrário. A função ReLU é escolhida por ser muito simples de calcular, rápida e ter um comportamento linear para valores positivos. Ela é muito utilizada em redes neurais devido a sua capacidade de lidar com o problema do desaparecimento do gradiente em redes muito profundas.\n",
    "\n",
    "Já a função softmax é utilizada para normalizar a saída da rede em valores entre 0 e 1. Ela é aplicada na camada de saída em redes neurais que realizam classificação. Ela é definida como uma função exponencial normalizada, onde a soma das exponenciais de cada classe é igual a 1. Ela recebe como entrada um vetor de valores e retorna um vetor de probabilidades normalizadas. A função softmax é muito utilizada em problemas de classificação multiclasse, onde é necessário estimar a probabilidade de cada classe."
   ]
  },
  {
   "cell_type": "code",
   "execution_count": 1,
   "id": "b11059e2",
   "metadata": {},
   "outputs": [],
   "source": [
    "import numpy as np\n",
    "\n",
    "def sigmoid(x):#transforma os valores de entrada em uma escala de 0 a 1, o que é útil para problemas de classificação binária.\n",
    "    return 1 / (1 + np.exp(-x))"
   ]
  },
  {
   "cell_type": "code",
   "execution_count": 2,
   "id": "f8b63df2",
   "metadata": {},
   "outputs": [],
   "source": [
    "def softmax(x):\n",
    "    exp_x = np.exp(x - np.max(x, axis=1, keepdims=True))\n",
    "    return exp_x / np.sum(exp_x, axis=1, keepdims=True)"
   ]
  },
  {
   "cell_type": "code",
   "execution_count": null,
   "id": "e1ebd3a0",
   "metadata": {},
   "outputs": [],
   "source": [
    "def relu(x): # (Rectified Linear Unit) transforma valores negativos em zero e mantém valores positivos, o que ajuda a lidar com o problema de desvanecimento do gradiente em redes profundas.\n",
    "    return np.maximum(0, x)"
   ]
  },
  {
   "cell_type": "code",
   "execution_count": null,
   "id": "79cdb9fd",
   "metadata": {},
   "outputs": [],
   "source": [
    "def tanh(x): ## é semelhante à função sigmóide, mas transforma os valores de entrada em uma escala de -1 a 1.\n",
    "    return np.tanh(x)"
   ]
  }
 ],
 "metadata": {
  "kernelspec": {
   "display_name": "Python 3 (ipykernel)",
   "language": "python",
   "name": "python3"
  },
  "language_info": {
   "codemirror_mode": {
    "name": "ipython",
    "version": 3
   },
   "file_extension": ".py",
   "mimetype": "text/x-python",
   "name": "python",
   "nbconvert_exporter": "python",
   "pygments_lexer": "ipython3",
   "version": "3.8.5"
  }
 },
 "nbformat": 4,
 "nbformat_minor": 5
}
