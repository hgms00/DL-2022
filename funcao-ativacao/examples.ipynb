{
 "cells": [
  {
   "cell_type": "code",
   "execution_count": 1,
   "id": "fde98479",
   "metadata": {},
   "outputs": [],
   "source": [
    "import numpy as np\n",
    "\n",
    "def sigmoid(x):#transforma os valores de entrada em uma escala de 0 a 1, o que é útil para problemas de classificação binária.\n",
    "    return 1 / (1 + np.exp(-x))"
   ]
  },
  {
   "cell_type": "code",
   "execution_count": null,
   "id": "323cd59a",
   "metadata": {},
   "outputs": [],
   "source": [
    "def relu(x): # (Rectified Linear Unit) transforma valores negativos em zero e mantém valores positivos, o que ajuda a lidar com o problema de desvanecimento do gradiente em redes profundas.\n",
    "    return np.maximum(0, x)"
   ]
  },
  {
   "cell_type": "code",
   "execution_count": null,
   "id": "81c9e464",
   "metadata": {},
   "outputs": [],
   "source": [
    "def tanh(x): ## é semelhante à função sigmóide, mas transforma os valores de entrada em uma escala de -1 a 1.\n",
    "    return np.tanh(x)"
   ]
  }
 ],
 "metadata": {
  "kernelspec": {
   "display_name": "Python 3 (ipykernel)",
   "language": "python",
   "name": "python3"
  },
  "language_info": {
   "codemirror_mode": {
    "name": "ipython",
    "version": 3
   },
   "file_extension": ".py",
   "mimetype": "text/x-python",
   "name": "python",
   "nbconvert_exporter": "python",
   "pygments_lexer": "ipython3",
   "version": "3.8.5"
  }
 },
 "nbformat": 4,
 "nbformat_minor": 5
}
