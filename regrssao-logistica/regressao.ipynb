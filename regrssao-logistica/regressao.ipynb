{
 "cells": [
  {
   "cell_type": "markdown",
   "id": "8058e4c3",
   "metadata": {},
   "source": [
    "Este exemplo utiliza o dataset de câncer de mama do Scikit-Learn e divide os dados em treino e teste. Em seguida, é inicializado um modelo de regressão logística e treinado nos dados de treino. Por fim, é avaliado a acurácia do modelo nos dados de teste."
   ]
  },
  {
   "cell_type": "code",
   "execution_count": 2,
   "id": "84af8254",
   "metadata": {},
   "outputs": [
    {
     "name": "stdout",
     "output_type": "stream",
     "text": [
      "Acurácia: 0.972027972027972\n"
     ]
    }
   ],
   "source": [
    "from sklearn.datasets import load_breast_cancer\n",
    "from sklearn.model_selection import train_test_split\n",
    "from sklearn.linear_model import LogisticRegression\n",
    "\n",
    "# Carrega o dataset de câncer de mama\n",
    "cancer = load_breast_cancer()\n",
    "\n",
    "# Divide o dataset em dados de treino e teste\n",
    "X_train, X_test, y_train, y_test = train_test_split(cancer.data, cancer.target, random_state=42)\n",
    "\n",
    "# Inicializa o modelo de regressão logística\n",
    "logreg = LogisticRegression(max_iter=10000)\n",
    "\n",
    "# Treina o modelo de regressão logística\n",
    "logreg.fit(X_train, y_train)\n",
    "\n",
    "# Avalia o modelo nos dados de teste\n",
    "score = logreg.score(X_test, y_test)\n",
    "\n",
    "# Imprime a acurácia do modelo\n",
    "print(\"Acurácia:\", score)"
   ]
  },
  {
   "cell_type": "markdown",
   "id": "27a0962a",
   "metadata": {},
   "source": [
    "Essa classe tem três métodos:\n",
    "\n",
    "sigmoid(z): calcula a função sigmoid de um dado valor z.\n",
    "fit(X, y): treina o modelo de regressão logística com as amostras X e rótulos y.\n",
    "predict(X): faz previsões com o modelo treinado para as amostras X.\n",
    "Aqui está um exemplo de como usar a classe LogisticRegression:"
   ]
  },
  {
   "cell_type": "code",
   "execution_count": 3,
   "id": "32cb2284",
   "metadata": {},
   "outputs": [],
   "source": [
    "import numpy as np\n",
    "\n",
    "class LogisticRegression:\n",
    "    \n",
    "    def __init__(self, learning_rate=0.1, num_iterations=100):\n",
    "        self.learning_rate = learning_rate\n",
    "        self.num_iterations = num_iterations\n",
    "        self.weights = None\n",
    "        self.bias = None\n",
    "        \n",
    "    def sigmoid(self, z):\n",
    "        return 1 / (1 + np.exp(-z))\n",
    "    \n",
    "    def fit(self, X, y):\n",
    "        # Inicializa os pesos e bias\n",
    "        n_samples, n_features = X.shape\n",
    "        self.weights = np.zeros(n_features)\n",
    "        self.bias = 0\n",
    "        \n",
    "        # Gradiente descendente\n",
    "        for i in range(self.num_iterations):\n",
    "            # Calcula o modelo linear\n",
    "            linear_model = np.dot(X, self.weights) + self.bias\n",
    "            \n",
    "            # Calcula a saída da função sigmoid\n",
    "            y_pred = self.sigmoid(linear_model)\n",
    "            \n",
    "            # Calcula o gradiente da função de custo\n",
    "            dw = (1 / n_samples) * np.dot(X.T, (y_pred - y))\n",
    "            db = (1 / n_samples) * np.sum(y_pred - y)\n",
    "            \n",
    "            # Atualiza os pesos e bias\n",
    "            self.weights -= self.learning_rate * dw\n",
    "            self.bias -= self.learning_rate * db\n",
    "            \n",
    "    def predict(self, X):\n",
    "        # Calcula a saída da função sigmoid\n",
    "        linear_model = np.dot(X, self.weights) + self.bias\n",
    "        y_pred = self.sigmoid(linear_model)\n",
    "        \n",
    "        # Arredonda as probabilidades para obter as classes\n",
    "        y_pred_cls = [1 if i > 0.5 else 0 for i in y_pred]\n",
    "        return np.array(y_pred_cls)"
   ]
  },
  {
   "cell_type": "code",
   "execution_count": 4,
   "id": "2c7aeaa4",
   "metadata": {},
   "outputs": [
    {
     "name": "stdout",
     "output_type": "stream",
     "text": [
      "[0 0]\n"
     ]
    }
   ],
   "source": [
    "# Cria alguns dados de exemplo\n",
    "X = np.array([[1, 2, 3], [4, 5, 6], [7, 8, 9]])\n",
    "y = np.array([0, 0, 1])\n",
    "\n",
    "# Cria o modelo de regressão logística e treina com os dados\n",
    "model = LogisticRegression()\n",
    "model.fit(X, y)\n",
    "\n",
    "# Faz previsões para novas amostras\n",
    "X_new = np.array([[2, 3, 4], [5, 6, 7]])\n",
    "y_pred = model.predict(X_new)\n",
    "\n",
    "print(y_pred)"
   ]
  },
  {
   "cell_type": "markdown",
   "id": "d0fcf67e",
   "metadata": {},
   "source": [
    "Esse código cria um modelo de regressão logística, treina-o com as amostras X e rótulos y, e faz previsões para as amostras X_new. As previsões são impressas na tela. Note que as classes previstas são 0 e 1, já que estamos fazendo uma regressão logística binária."
   ]
  }
 ],
 "metadata": {
  "kernelspec": {
   "display_name": "Python 3 (ipykernel)",
   "language": "python",
   "name": "python3"
  },
  "language_info": {
   "codemirror_mode": {
    "name": "ipython",
    "version": 3
   },
   "file_extension": ".py",
   "mimetype": "text/x-python",
   "name": "python",
   "nbconvert_exporter": "python",
   "pygments_lexer": "ipython3",
   "version": "3.8.5"
  }
 },
 "nbformat": 4,
 "nbformat_minor": 5
}
